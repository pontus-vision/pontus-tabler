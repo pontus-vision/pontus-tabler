{
 "cells": [
  {
   "cell_type": "code",
   "execution_count": null,
   "id": "b266a4a2-2202-41e4-a3a0-c6f6fc6b5122",
   "metadata": {},
   "outputs": [],
   "source": [
    "%pip install dbl-tempo"
   ]
  },
  {
   "cell_type": "code",
   "execution_count": 6,
   "id": "8a915b14-c361-4df0-9fc6-2b5704de1eb9",
   "metadata": {},
   "outputs": [
    {
     "data": {
      "text/html": [
       "<style>pre { white-space: pre !important; }</style>"
      ],
      "text/plain": [
       "<IPython.core.display.HTML object>"
      ]
     },
     "metadata": {},
     "output_type": "display_data"
    },
    {
     "name": "stdout",
     "output_type": "stream",
     "text": [
      "+-----+-------------+-------------------+-------------------+------------------+--------+----+------+--------+-----+-----------------------+----------------+\n",
      "|Index|Arrival_Time |Creation_Time      |x                  |y                 |z       |User|Model |Device  |gt   |event_ts               |event_ts_dbl    |\n",
      "+-----+-------------+-------------------+-------------------+------------------+--------+----+------+--------+-----+-----------------------+----------------+\n",
      "|94   |1424696634377|1424696632386606726|-5.8022766         |0.6595001         |8.155579|a   |nexus4|nexus4_1|stand|2015-02-23 13:03:54.377|1.424696634377E9|\n",
      "|95   |1424696634383|1424696632391642126|-5.7641907         |0.6178435999999999|8.171051|a   |nexus4|nexus4_1|stand|2015-02-23 13:03:54.383|1.424696634383E9|\n",
      "|96   |1424696634388|1424696632396677527|-5.771332          |0.6428375         |8.196045|a   |nexus4|nexus4_1|stand|2015-02-23 13:03:54.388|1.424696634388E9|\n",
      "|97   |1424696634393|1424696632401712927|-5.8213196         |0.6547394         |8.174622|a   |nexus4|nexus4_1|stand|2015-02-23 13:03:54.393|1.424696634393E9|\n",
      "|98   |1424696634397|1424696632406748328|-5.7820434999999994|0.63093567        |8.140106|a   |nexus4|nexus4_1|stand|2015-02-23 13:03:54.397|1.424696634397E9|\n",
      "+-----+-------------+-------------------+-------------------+------------------+--------+----+------+--------+-----+-----------------------+----------------+\n",
      "\n"
     ]
    }
   ],
   "source": [
    "from pyspark.sql.functions import * \n",
    "\n",
    "phone_accel_df = spark.read.format(\"csv\").option(\"header\", \"true\").load(\"./activity-recognition-exp/shorter_phone_accelerometer.csv\").withColumn(\"event_ts\", (col(\"Arrival_Time\").cast(\"double\")/1000).cast(\"timestamp\")).withColumn(\"x\", col(\"x\").cast(\"double\")).withColumn(\"y\", col(\"y\").cast(\"double\")).withColumn(\"z\", col(\"z\").cast(\"double\")).withColumn(\"event_ts_dbl\", col(\"event_ts\").cast(\"double\"))\n",
    "\n",
    "from tempo import * \n",
    "\n",
    "phone_accel_tsdf = TSDF(phone_accel_df, ts_col=\"event_ts\", partition_cols = [\"User\"])\n",
    "\n",
    "display(phone_accel_tsdf)"
   ]
  },
  {
   "cell_type": "code",
   "execution_count": 7,
   "id": "e92a938f-2331-426a-a902-d137767dfd01",
   "metadata": {},
   "outputs": [
    {
     "data": {
      "application/vnd.plotly.v1+json": {
       "config": {
        "plotlyServerURL": "https://plot.ly"
       },
       "data": [
        {
         "hovertemplate": "<b>%{hovertext}</b><br><br>User=a<br>event_ts=%{x}<br>z=%{y}<extra></extra>",
         "hovertext": [
          "a"
         ],
         "legendgroup": "a",
         "line": {
          "color": "#636efa",
          "dash": "solid"
         },
         "marker": {
          "symbol": "circle"
         },
         "mode": "lines",
         "name": "a",
         "orientation": "v",
         "showlegend": true,
         "type": "scatter",
         "x": [
          "2015-02-23T13:03:00.000000000"
         ],
         "xaxis": "x",
         "y": {
          "bdata": "r1qZ8EtFIEA=",
          "dtype": "f8"
         },
         "yaxis": "y"
        }
       ],
       "layout": {
        "legend": {
         "title": {
          "text": "User"
         },
         "tracegroupgap": 0
        },
        "margin": {
         "t": 60
        },
        "showlegend": false,
        "template": {
         "data": {
          "bar": [
           {
            "error_x": {
             "color": "#2a3f5f"
            },
            "error_y": {
             "color": "#2a3f5f"
            },
            "marker": {
             "line": {
              "color": "#E5ECF6",
              "width": 0.5
             },
             "pattern": {
              "fillmode": "overlay",
              "size": 10,
              "solidity": 0.2
             }
            },
            "type": "bar"
           }
          ],
          "barpolar": [
           {
            "marker": {
             "line": {
              "color": "#E5ECF6",
              "width": 0.5
             },
             "pattern": {
              "fillmode": "overlay",
              "size": 10,
              "solidity": 0.2
             }
            },
            "type": "barpolar"
           }
          ],
          "carpet": [
           {
            "aaxis": {
             "endlinecolor": "#2a3f5f",
             "gridcolor": "white",
             "linecolor": "white",
             "minorgridcolor": "white",
             "startlinecolor": "#2a3f5f"
            },
            "baxis": {
             "endlinecolor": "#2a3f5f",
             "gridcolor": "white",
             "linecolor": "white",
             "minorgridcolor": "white",
             "startlinecolor": "#2a3f5f"
            },
            "type": "carpet"
           }
          ],
          "choropleth": [
           {
            "colorbar": {
             "outlinewidth": 0,
             "ticks": ""
            },
            "type": "choropleth"
           }
          ],
          "contour": [
           {
            "colorbar": {
             "outlinewidth": 0,
             "ticks": ""
            },
            "colorscale": [
             [
              0,
              "#0d0887"
             ],
             [
              0.1111111111111111,
              "#46039f"
             ],
             [
              0.2222222222222222,
              "#7201a8"
             ],
             [
              0.3333333333333333,
              "#9c179e"
             ],
             [
              0.4444444444444444,
              "#bd3786"
             ],
             [
              0.5555555555555556,
              "#d8576b"
             ],
             [
              0.6666666666666666,
              "#ed7953"
             ],
             [
              0.7777777777777778,
              "#fb9f3a"
             ],
             [
              0.8888888888888888,
              "#fdca26"
             ],
             [
              1,
              "#f0f921"
             ]
            ],
            "type": "contour"
           }
          ],
          "contourcarpet": [
           {
            "colorbar": {
             "outlinewidth": 0,
             "ticks": ""
            },
            "type": "contourcarpet"
           }
          ],
          "heatmap": [
           {
            "colorbar": {
             "outlinewidth": 0,
             "ticks": ""
            },
            "colorscale": [
             [
              0,
              "#0d0887"
             ],
             [
              0.1111111111111111,
              "#46039f"
             ],
             [
              0.2222222222222222,
              "#7201a8"
             ],
             [
              0.3333333333333333,
              "#9c179e"
             ],
             [
              0.4444444444444444,
              "#bd3786"
             ],
             [
              0.5555555555555556,
              "#d8576b"
             ],
             [
              0.6666666666666666,
              "#ed7953"
             ],
             [
              0.7777777777777778,
              "#fb9f3a"
             ],
             [
              0.8888888888888888,
              "#fdca26"
             ],
             [
              1,
              "#f0f921"
             ]
            ],
            "type": "heatmap"
           }
          ],
          "histogram": [
           {
            "marker": {
             "pattern": {
              "fillmode": "overlay",
              "size": 10,
              "solidity": 0.2
             }
            },
            "type": "histogram"
           }
          ],
          "histogram2d": [
           {
            "colorbar": {
             "outlinewidth": 0,
             "ticks": ""
            },
            "colorscale": [
             [
              0,
              "#0d0887"
             ],
             [
              0.1111111111111111,
              "#46039f"
             ],
             [
              0.2222222222222222,
              "#7201a8"
             ],
             [
              0.3333333333333333,
              "#9c179e"
             ],
             [
              0.4444444444444444,
              "#bd3786"
             ],
             [
              0.5555555555555556,
              "#d8576b"
             ],
             [
              0.6666666666666666,
              "#ed7953"
             ],
             [
              0.7777777777777778,
              "#fb9f3a"
             ],
             [
              0.8888888888888888,
              "#fdca26"
             ],
             [
              1,
              "#f0f921"
             ]
            ],
            "type": "histogram2d"
           }
          ],
          "histogram2dcontour": [
           {
            "colorbar": {
             "outlinewidth": 0,
             "ticks": ""
            },
            "colorscale": [
             [
              0,
              "#0d0887"
             ],
             [
              0.1111111111111111,
              "#46039f"
             ],
             [
              0.2222222222222222,
              "#7201a8"
             ],
             [
              0.3333333333333333,
              "#9c179e"
             ],
             [
              0.4444444444444444,
              "#bd3786"
             ],
             [
              0.5555555555555556,
              "#d8576b"
             ],
             [
              0.6666666666666666,
              "#ed7953"
             ],
             [
              0.7777777777777778,
              "#fb9f3a"
             ],
             [
              0.8888888888888888,
              "#fdca26"
             ],
             [
              1,
              "#f0f921"
             ]
            ],
            "type": "histogram2dcontour"
           }
          ],
          "mesh3d": [
           {
            "colorbar": {
             "outlinewidth": 0,
             "ticks": ""
            },
            "type": "mesh3d"
           }
          ],
          "parcoords": [
           {
            "line": {
             "colorbar": {
              "outlinewidth": 0,
              "ticks": ""
             }
            },
            "type": "parcoords"
           }
          ],
          "pie": [
           {
            "automargin": true,
            "type": "pie"
           }
          ],
          "scatter": [
           {
            "fillpattern": {
             "fillmode": "overlay",
             "size": 10,
             "solidity": 0.2
            },
            "type": "scatter"
           }
          ],
          "scatter3d": [
           {
            "line": {
             "colorbar": {
              "outlinewidth": 0,
              "ticks": ""
             }
            },
            "marker": {
             "colorbar": {
              "outlinewidth": 0,
              "ticks": ""
             }
            },
            "type": "scatter3d"
           }
          ],
          "scattercarpet": [
           {
            "marker": {
             "colorbar": {
              "outlinewidth": 0,
              "ticks": ""
             }
            },
            "type": "scattercarpet"
           }
          ],
          "scattergeo": [
           {
            "marker": {
             "colorbar": {
              "outlinewidth": 0,
              "ticks": ""
             }
            },
            "type": "scattergeo"
           }
          ],
          "scattergl": [
           {
            "marker": {
             "colorbar": {
              "outlinewidth": 0,
              "ticks": ""
             }
            },
            "type": "scattergl"
           }
          ],
          "scattermap": [
           {
            "marker": {
             "colorbar": {
              "outlinewidth": 0,
              "ticks": ""
             }
            },
            "type": "scattermap"
           }
          ],
          "scattermapbox": [
           {
            "marker": {
             "colorbar": {
              "outlinewidth": 0,
              "ticks": ""
             }
            },
            "type": "scattermapbox"
           }
          ],
          "scatterpolar": [
           {
            "marker": {
             "colorbar": {
              "outlinewidth": 0,
              "ticks": ""
             }
            },
            "type": "scatterpolar"
           }
          ],
          "scatterpolargl": [
           {
            "marker": {
             "colorbar": {
              "outlinewidth": 0,
              "ticks": ""
             }
            },
            "type": "scatterpolargl"
           }
          ],
          "scatterternary": [
           {
            "marker": {
             "colorbar": {
              "outlinewidth": 0,
              "ticks": ""
             }
            },
            "type": "scatterternary"
           }
          ],
          "surface": [
           {
            "colorbar": {
             "outlinewidth": 0,
             "ticks": ""
            },
            "colorscale": [
             [
              0,
              "#0d0887"
             ],
             [
              0.1111111111111111,
              "#46039f"
             ],
             [
              0.2222222222222222,
              "#7201a8"
             ],
             [
              0.3333333333333333,
              "#9c179e"
             ],
             [
              0.4444444444444444,
              "#bd3786"
             ],
             [
              0.5555555555555556,
              "#d8576b"
             ],
             [
              0.6666666666666666,
              "#ed7953"
             ],
             [
              0.7777777777777778,
              "#fb9f3a"
             ],
             [
              0.8888888888888888,
              "#fdca26"
             ],
             [
              1,
              "#f0f921"
             ]
            ],
            "type": "surface"
           }
          ],
          "table": [
           {
            "cells": {
             "fill": {
              "color": "#EBF0F8"
             },
             "line": {
              "color": "white"
             }
            },
            "header": {
             "fill": {
              "color": "#C8D4E3"
             },
             "line": {
              "color": "white"
             }
            },
            "type": "table"
           }
          ]
         },
         "layout": {
          "annotationdefaults": {
           "arrowcolor": "#2a3f5f",
           "arrowhead": 0,
           "arrowwidth": 1
          },
          "autotypenumbers": "strict",
          "coloraxis": {
           "colorbar": {
            "outlinewidth": 0,
            "ticks": ""
           }
          },
          "colorscale": {
           "diverging": [
            [
             0,
             "#8e0152"
            ],
            [
             0.1,
             "#c51b7d"
            ],
            [
             0.2,
             "#de77ae"
            ],
            [
             0.3,
             "#f1b6da"
            ],
            [
             0.4,
             "#fde0ef"
            ],
            [
             0.5,
             "#f7f7f7"
            ],
            [
             0.6,
             "#e6f5d0"
            ],
            [
             0.7,
             "#b8e186"
            ],
            [
             0.8,
             "#7fbc41"
            ],
            [
             0.9,
             "#4d9221"
            ],
            [
             1,
             "#276419"
            ]
           ],
           "sequential": [
            [
             0,
             "#0d0887"
            ],
            [
             0.1111111111111111,
             "#46039f"
            ],
            [
             0.2222222222222222,
             "#7201a8"
            ],
            [
             0.3333333333333333,
             "#9c179e"
            ],
            [
             0.4444444444444444,
             "#bd3786"
            ],
            [
             0.5555555555555556,
             "#d8576b"
            ],
            [
             0.6666666666666666,
             "#ed7953"
            ],
            [
             0.7777777777777778,
             "#fb9f3a"
            ],
            [
             0.8888888888888888,
             "#fdca26"
            ],
            [
             1,
             "#f0f921"
            ]
           ],
           "sequentialminus": [
            [
             0,
             "#0d0887"
            ],
            [
             0.1111111111111111,
             "#46039f"
            ],
            [
             0.2222222222222222,
             "#7201a8"
            ],
            [
             0.3333333333333333,
             "#9c179e"
            ],
            [
             0.4444444444444444,
             "#bd3786"
            ],
            [
             0.5555555555555556,
             "#d8576b"
            ],
            [
             0.6666666666666666,
             "#ed7953"
            ],
            [
             0.7777777777777778,
             "#fb9f3a"
            ],
            [
             0.8888888888888888,
             "#fdca26"
            ],
            [
             1,
             "#f0f921"
            ]
           ]
          },
          "colorway": [
           "#636efa",
           "#EF553B",
           "#00cc96",
           "#ab63fa",
           "#FFA15A",
           "#19d3f3",
           "#FF6692",
           "#B6E880",
           "#FF97FF",
           "#FECB52"
          ],
          "font": {
           "color": "#2a3f5f"
          },
          "geo": {
           "bgcolor": "white",
           "lakecolor": "white",
           "landcolor": "#E5ECF6",
           "showlakes": true,
           "showland": true,
           "subunitcolor": "white"
          },
          "hoverlabel": {
           "align": "left"
          },
          "hovermode": "closest",
          "mapbox": {
           "style": "light"
          },
          "paper_bgcolor": "white",
          "plot_bgcolor": "#E5ECF6",
          "polar": {
           "angularaxis": {
            "gridcolor": "white",
            "linecolor": "white",
            "ticks": ""
           },
           "bgcolor": "#E5ECF6",
           "radialaxis": {
            "gridcolor": "white",
            "linecolor": "white",
            "ticks": ""
           }
          },
          "scene": {
           "xaxis": {
            "backgroundcolor": "#E5ECF6",
            "gridcolor": "white",
            "gridwidth": 2,
            "linecolor": "white",
            "showbackground": true,
            "ticks": "",
            "zerolinecolor": "white"
           },
           "yaxis": {
            "backgroundcolor": "#E5ECF6",
            "gridcolor": "white",
            "gridwidth": 2,
            "linecolor": "white",
            "showbackground": true,
            "ticks": "",
            "zerolinecolor": "white"
           },
           "zaxis": {
            "backgroundcolor": "#E5ECF6",
            "gridcolor": "white",
            "gridwidth": 2,
            "linecolor": "white",
            "showbackground": true,
            "ticks": "",
            "zerolinecolor": "white"
           }
          },
          "shapedefaults": {
           "line": {
            "color": "#2a3f5f"
           }
          },
          "ternary": {
           "aaxis": {
            "gridcolor": "white",
            "linecolor": "white",
            "ticks": ""
           },
           "baxis": {
            "gridcolor": "white",
            "linecolor": "white",
            "ticks": ""
           },
           "bgcolor": "#E5ECF6",
           "caxis": {
            "gridcolor": "white",
            "linecolor": "white",
            "ticks": ""
           }
          },
          "title": {
           "x": 0.05
          },
          "xaxis": {
           "automargin": true,
           "gridcolor": "white",
           "linecolor": "white",
           "ticks": "",
           "title": {
            "standoff": 15
           },
           "zerolinecolor": "white",
           "zerolinewidth": 2
          },
          "yaxis": {
           "automargin": true,
           "gridcolor": "white",
           "linecolor": "white",
           "ticks": "",
           "title": {
            "standoff": 15
           },
           "zerolinecolor": "white",
           "zerolinewidth": 2
          }
         }
        },
        "title": {
         "text": "Phone Accelerometer Usage"
        },
        "xaxis": {
         "anchor": "y",
         "domain": [
          0,
          1
         ],
         "title": {
          "text": "event_ts"
         }
        },
        "yaxis": {
         "anchor": "x",
         "domain": [
          0,
          1
         ],
         "title": {
          "text": "z"
         }
        }
       }
      },
      "image/png": "[encoded data removed]"
     },
     "metadata": {},
     "output_type": "display_data"
    }
   ],
   "source": [
    "# ts_col = timestamp column on which to sort fact and source table\n",
    "# partition_cols - columns to use for partitioning the TSDF into more granular time series for windowing and sorting\n",
    "\n",
    "resampled_sdf = phone_accel_tsdf.resample(freq='min', func='floor')\n",
    "resampled_pdf = resampled_sdf.df.filter(col('event_ts').cast(\"date\") == \"2015-02-23\").toPandas()\n",
    "\n",
    "import plotly.graph_objs as go\n",
    "import plotly.express as px\n",
    "import pandas as pd\n",
    "\n",
    "# Plotly figure 1\n",
    "fig = px.line(resampled_pdf, x='event_ts', y='z',\n",
    "              color=\"User\",\n",
    "              line_group=\"User\", hover_name=\"User\")\n",
    "fig.update_layout(title='Phone Accelerometer Usage' , showlegend=False)\n",
    "\n",
    "fig.show()"
   ]
  },
  {
   "cell_type": "code",
   "execution_count": 8,
   "id": "ffc94329-2596-4f86-83db-951cebed3465",
   "metadata": {},
   "outputs": [
    {
     "data": {
      "text/html": [
       "<style>pre { white-space: pre !important; }</style>"
      ],
      "text/plain": [
       "<IPython.core.display.HTML object>"
      ]
     },
     "metadata": {},
     "output_type": "display_data"
    },
    {
     "name": "stdout",
     "output_type": "stream",
     "text": [
      "+-----+------+---------+--------------+-----------------------+----+----------+----------+-------------+-----+-----+----------------+------------------+-------------+-------------------------+-------------------+-------------+------------------------+------------------------+-----------------+-----------------------+-----------------+--------------+\n",
      "|gt   |Device|x        |Creation_Time |event_ts               |User|y         |z         |Arrival_Time |Model|Index|event_ts_dbl    |phone_accel_Device|phone_accel_z|phone_accel_Creation_Time|phone_accel_x      |phone_accel_y|phone_accel_event_ts_dbl|phone_accel_Arrival_Time|phone_accel_Model|phone_accel_event_ts   |phone_accel_Index|phone_accel_gt|\n",
      "+-----+------+---------+--------------+-----------------------+----+----------+----------+-------------+-----+-----+----------------+------------------+-------------+-------------------------+-------------------+-------------+------------------------+------------------------+-----------------+-----------------------+-----------------+--------------+\n",
      "|stand|gear_1|-9.255983|27922425244000|2015-02-23 13:03:59.583|a   |-3.9085343|-1.0522517|1424696639583|gear |94   |1.424696639583E9|nexus4_1          |8.140106     |1424696632406748328      |-5.7820434999999994|0.63093567   |1.424696634397E9        |1424696634397           |nexus4           |2015-02-23 13:03:54.397|98               |stand         |\n",
      "|stand|gear_1|-9.283517|27922435119000|2015-02-23 13:03:59.594|a   |-3.876811 |-1.0881647|1424696639594|gear |95   |1.424696639594E9|nexus4_1          |8.140106     |1424696632406748328      |-5.7820434999999994|0.63093567   |1.424696634397E9        |1424696634397           |nexus4           |2015-02-23 13:03:54.397|98               |stand         |\n",
      "|stand|gear_1|-9.312247|27922445136000|2015-02-23 13:03:59.604|a   |-3.8630445|-1.1246762|1424696639604|gear |96   |1.424696639604E9|nexus4_1          |8.140106     |1424696632406748328      |-5.7820434999999994|0.63093567   |1.424696634397E9        |1424696634397           |nexus4           |2015-02-23 13:03:54.397|98               |stand         |\n",
      "|stand|gear_1|-9.324219|27922454938000|2015-02-23 13:03:59.613|a   |-3.8426938|-1.1186907|1424696639613|gear |97   |1.424696639613E9|nexus4_1          |8.140106     |1424696632406748328      |-5.7820434999999994|0.63093567   |1.424696634397E9        |1424696634397           |nexus4           |2015-02-23 13:03:54.397|98               |stand         |\n",
      "|stand|gear_1|-9.303867|27922465101000|2015-02-23 13:03:59.624|a   |-3.8720226|-1.0720038|1424696639624|gear |98   |1.424696639624E9|nexus4_1          |8.140106     |1424696632406748328      |-5.7820434999999994|0.63093567   |1.424696634397E9        |1424696634397           |nexus4           |2015-02-23 13:03:54.397|98               |stand         |\n",
      "+-----+------+---------+--------------+-----------------------+----+----------+----------+-------------+-----+-----+----------------+------------------+-------------+-------------------------+-------------------+-------------+------------------------+------------------------+-----------------+-----------------------+-----------------+--------------+\n",
      "\n"
     ]
    }
   ],
   "source": [
    "from pyspark.sql.functions import * \n",
    "\n",
    "watch_accel_df = spark.read.format(\"csv\").option(\"header\", \"true\").load(\"./activity-recognition-exp/shorter_watch_accelerometer.csv\").withColumn(\"event_ts\", (col(\"Arrival_Time\").cast(\"double\")/1000).cast(\"timestamp\")).withColumn(\"x\", col(\"x\").cast(\"double\")).withColumn(\"y\", col(\"y\").cast(\"double\")).withColumn(\"z\", col(\"z\").cast(\"double\")).withColumn(\"event_ts_dbl\", col(\"event_ts\").cast(\"double\"))\n",
    "\n",
    "watch_accel_tsdf = TSDF(watch_accel_df, ts_col=\"event_ts\", partition_cols = [\"User\"])\n",
    "\n",
    "# Applying AS OF join to TSDF datasets\n",
    "joined_df = watch_accel_tsdf.asofJoin(phone_accel_tsdf, right_prefix=\"phone_accel\")\n",
    "\n",
    "display(joined_df)"
   ]
  },
  {
   "cell_type": "code",
   "execution_count": 9,
   "id": "8f5cb56d-3cf2-4e1c-a1e7-c7c691796503",
   "metadata": {},
   "outputs": [
    {
     "name": "stderr",
     "output_type": "stream",
     "text": [
      "You are using the skew version of the AS OF join. This may result in null values if there are any values outside of the maximum lookback. For maximum efficiency, choose smaller values of maximum lookback, trading off performance and potential blank AS OF values for sparse keys\n",
      "Column watch_accel_Creation_Time had no values within the lookback window. Consider using a larger window to avoid missing values. If this is the first record in the data frame, this warning can be ignored.\n",
      "Column watch_accel_Model had no values within the lookback window. Consider using a larger window to avoid missing values. If this is the first record in the data frame, this warning can be ignored.\n",
      "Column watch_accel_z had no values within the lookback window. Consider using a larger window to avoid missing values. If this is the first record in the data frame, this warning can be ignored.\n",
      "Column watch_accel_Arrival_Time had no values within the lookback window. Consider using a larger window to avoid missing values. If this is the first record in the data frame, this warning can be ignored.\n",
      "Column watch_accel_event_ts had no values within the lookback window. Consider using a larger window to avoid missing values. If this is the first record in the data frame, this warning can be ignored.\n",
      "Column watch_accel_Index had no values within the lookback window. Consider using a larger window to avoid missing values. If this is the first record in the data frame, this warning can be ignored.\n",
      "Column watch_accel_Device had no values within the lookback window. Consider using a larger window to avoid missing values. If this is the first record in the data frame, this warning can be ignored.\n",
      "Column watch_accel_x had no values within the lookback window. Consider using a larger window to avoid missing values. If this is the first record in the data frame, this warning can be ignored.\n",
      "Column watch_accel_gt had no values within the lookback window. Consider using a larger window to avoid missing values. If this is the first record in the data frame, this warning can be ignored.\n",
      "Column watch_accel_y had no values within the lookback window. Consider using a larger window to avoid missing values. If this is the first record in the data frame, this warning can be ignored.\n",
      "Column watch_accel_event_ts_dbl had no values within the lookback window. Consider using a larger window to avoid missing values. If this is the first record in the data frame, this warning can be ignored.\n"
     ]
    },
    {
     "data": {
      "text/html": [
       "<style>pre { white-space: pre !important; }</style>"
      ],
      "text/plain": [
       "<IPython.core.display.HTML object>"
      ]
     },
     "metadata": {},
     "output_type": "display_data"
    },
    {
     "name": "stdout",
     "output_type": "stream",
     "text": [
      "+-----+------+---------+--------------+-----------------------+----+----------+----------+-------------+-----+-----+----------------+-------------------------+-----------------+-------------+------------------------+-----------------------+-----------------+------------------+-------------------+--------------+-------------+------------------------+\n",
      "|gt   |Device|x        |Creation_Time |event_ts               |User|y         |z         |Arrival_Time |Model|Index|event_ts_dbl    |watch_accel_Creation_Time|watch_accel_Model|watch_accel_z|watch_accel_Arrival_Time|watch_accel_event_ts   |watch_accel_Index|watch_accel_Device|watch_accel_x      |watch_accel_gt|watch_accel_y|watch_accel_event_ts_dbl|\n",
      "+-----+------+---------+--------------+-----------------------+----+----------+----------+-------------+-----+-----+----------------+-------------------------+-----------------+-------------+------------------------+-----------------------+-----------------+------------------+-------------------+--------------+-------------+------------------------+\n",
      "|stand|gear_1|-9.255983|27922425244000|2015-02-23 13:03:59.583|a   |-3.9085343|-1.0522517|1424696639583|gear |94   |1.424696639583E9|1424696632406748328      |nexus4           |8.140106     |1424696634397           |2015-02-23 13:03:54.397|98               |nexus4_1          |-5.7820434999999994|stand         |0.63093567   |1.424696634397E9        |\n",
      "|stand|gear_1|-9.283517|27922435119000|2015-02-23 13:03:59.594|a   |-3.876811 |-1.0881647|1424696639594|gear |95   |1.424696639594E9|1424696632406748328      |nexus4           |8.140106     |1424696634397           |2015-02-23 13:03:54.397|98               |nexus4_1          |-5.7820434999999994|stand         |0.63093567   |1.424696634397E9        |\n",
      "|stand|gear_1|-9.312247|27922445136000|2015-02-23 13:03:59.604|a   |-3.8630445|-1.1246762|1424696639604|gear |96   |1.424696639604E9|1424696632406748328      |nexus4           |8.140106     |1424696634397           |2015-02-23 13:03:54.397|98               |nexus4_1          |-5.7820434999999994|stand         |0.63093567   |1.424696634397E9        |\n",
      "|stand|gear_1|-9.324219|27922454938000|2015-02-23 13:03:59.613|a   |-3.8426938|-1.1186907|1424696639613|gear |97   |1.424696639613E9|1424696632406748328      |nexus4           |8.140106     |1424696634397           |2015-02-23 13:03:54.397|98               |nexus4_1          |-5.7820434999999994|stand         |0.63093567   |1.424696634397E9        |\n",
      "|stand|gear_1|-9.303867|27922465101000|2015-02-23 13:03:59.624|a   |-3.8720226|-1.0720038|1424696639624|gear |98   |1.424696639624E9|1424696632406748328      |nexus4           |8.140106     |1424696634397           |2015-02-23 13:03:54.397|98               |nexus4_1          |-5.7820434999999994|stand         |0.63093567   |1.424696634397E9        |\n",
      "+-----+------+---------+--------------+-----------------------+----+----------+----------+-------------+-----+-----+----------------+-------------------------+-----------------+-------------+------------------------+-----------------------+-----------------+------------------+-------------------+--------------+-------------+------------------------+\n",
      "\n"
     ]
    }
   ],
   "source": [
    "joined_df = watch_accel_tsdf.asofJoin(phone_accel_tsdf, right_prefix=\"watch_accel\", tsPartitionVal = 10, fraction = 0.1)\n",
    "display(joined_df)"
   ]
  },
  {
   "cell_type": "code",
   "execution_count": null,
   "id": "01200372-7764-4e71-866e-70d70f1fb982",
   "metadata": {},
   "outputs": [],
   "source": []
  }
 ],
 "metadata": {
  "kernelspec": {
   "display_name": "Python 3 (ipykernel)",
   "language": "python",
   "name": "python3"
  },
  "language_info": {
   "codemirror_mode": {
    "name": "ipython",
    "version": 3
   },
   "file_extension": ".py",
   "mimetype": "text/x-python",
   "name": "python",
   "nbconvert_exporter": "python",
   "pygments_lexer": "ipython3",
   "version": "3.10.12"
  }
 },
 "nbformat": 4,
 "nbformat_minor": 5
}
