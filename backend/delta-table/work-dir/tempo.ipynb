{
 "cells": [
  {
   "cell_type": "code",
   "execution_count": null,
   "id": "b266a4a2-2202-41e4-a3a0-c6f6fc6b5122",
   "metadata": {},
   "outputs": [],
   "source": [
    "%pip install dbl-tempo"
   ]
  },
  {
   "cell_type": "code",
   "execution_count": null,
   "id": "8a915b14-c361-4df0-9fc6-2b5704de1eb9",
   "metadata": {},
   "outputs": [],
   "source": [
    "from pyspark.sql.functions import * \n",
    "\n",
    "phone_accel_df = spark.read.format(\"csv\").option(\"header\", \"true\").load(\"./activity-recognition-exp/shorter_phone_accelerometer.csv\").withColumn(\"event_ts\", (col(\"Arrival_Time\").cast(\"double\")/1000).cast(\"timestamp\")).withColumn(\"x\", col(\"x\").cast(\"double\")).withColumn(\"y\", col(\"y\").cast(\"double\")).withColumn(\"z\", col(\"z\").cast(\"double\")).withColumn(\"event_ts_dbl\", col(\"event_ts\").cast(\"double\"))\n",
    "\n",
    "from tempo import * \n",
    "\n",
    "phone_accel_tsdf = TSDF(phone_accel_df, ts_col=\"event_ts\", partition_cols = [\"User\"])\n",
    "\n",
    "display(phone_accel_tsdf)"
   ]
  },
  {
   "cell_type": "code",
   "execution_count": null,
   "id": "e92a938f-2331-426a-a902-d137767dfd01",
   "metadata": {},
   "outputs": [],
   "source": [
    "# ts_col = timestamp column on which to sort fact and source table\n",
    "# partition_cols - columns to use for partitioning the TSDF into more granular time series for windowing and sorting\n",
    "\n",
    "resampled_sdf = phone_accel_tsdf.resample(freq='min', func='floor')\n",
    "resampled_pdf = resampled_sdf.df.filter(col('event_ts').cast(\"date\") == \"2015-02-23\").toPandas()\n",
    "\n",
    "import plotly.graph_objs as go\n",
    "import plotly.express as px\n",
    "import pandas as pd\n",
    "\n",
    "# Plotly figure 1\n",
    "fig = px.line(resampled_pdf, x='event_ts', y='z',\n",
    "              color=\"User\",\n",
    "              line_group=\"User\", hover_name=\"User\")\n",
    "fig.update_layout(title='Phone Accelerometer Usage' , showlegend=False)\n",
    "\n",
    "fig.show()"
   ]
  },
  {
   "cell_type": "code",
   "execution_count": null,
   "id": "ffc94329-2596-4f86-83db-951cebed3465",
   "metadata": {},
   "outputs": [],
   "source": [
    "from pyspark.sql.functions import * \n",
    "\n",
    "watch_accel_df = spark.read.format(\"csv\").option(\"header\", \"true\").load(\"./activity-recognition-exp/shorter_watch_accelerometer.csv\").withColumn(\"event_ts\", (col(\"Arrival_Time\").cast(\"double\")/1000).cast(\"timestamp\")).withColumn(\"x\", col(\"x\").cast(\"double\")).withColumn(\"y\", col(\"y\").cast(\"double\")).withColumn(\"z\", col(\"z\").cast(\"double\")).withColumn(\"event_ts_dbl\", col(\"event_ts\").cast(\"double\"))\n",
    "\n",
    "watch_accel_tsdf = TSDF(watch_accel_df, ts_col=\"event_ts\", partition_cols = [\"User\"])\n",
    "\n",
    "# Applying AS OF join to TSDF datasets\n",
    "joined_df = watch_accel_tsdf.asofJoin(phone_accel_tsdf, right_prefix=\"phone_accel\")\n",
    "\n",
    "display(joined_df)"
   ]
  },
  {
   "cell_type": "code",
   "execution_count": null,
   "id": "8f5cb56d-3cf2-4e1c-a1e7-c7c691796503",
   "metadata": {},
   "outputs": [],
   "source": [
    "joined_df = watch_accel_tsdf.asofJoin(phone_accel_tsdf, right_prefix=\"watch_accel\", tsPartitionVal = 10, fraction = 0.1)\n",
    "display(joined_df)"
   ]
  },
  {
   "cell_type": "code",
   "execution_count": null,
   "id": "01200372-7764-4e71-866e-70d70f1fb982",
   "metadata": {},
   "outputs": [],
   "source": []
  }
 ],
 "metadata": {
  "kernelspec": {
   "display_name": "Python 3 (ipykernel)",
   "language": "python",
   "name": "python3"
  },
  "language_info": {
   "codemirror_mode": {
    "name": "ipython",
    "version": 3
   },
   "file_extension": ".py",
   "mimetype": "text/x-python",
   "name": "python",
   "nbconvert_exporter": "python",
   "pygments_lexer": "ipython3",
   "version": "3.10.12"
  }
 },
 "nbformat": 4,
 "nbformat_minor": 5
}
