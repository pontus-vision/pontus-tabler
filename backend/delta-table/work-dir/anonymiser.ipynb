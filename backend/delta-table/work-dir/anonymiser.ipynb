{
 "cells": [
  {
   "cell_type": "code",
   "execution_count": 2,
   "id": "23ee0c89-888a-46fe-91c6-b657f7d988dd",
   "metadata": {},
   "outputs": [
    {
     "name": "stderr",
     "output_type": "stream",
     "text": [
      "24/06/26 17:50:52 WARN SimpleFunctionRegistry: The function anonymise_udf replaced a previously registered function.\n"
     ]
    },
    {
     "data": {
      "text/plain": [
       "'anonymising $name on Leo becomes Jason Brown'"
      ]
     },
     "metadata": {},
     "output_type": "display_data"
    },
    {
     "name": "stdout",
     "output_type": "stream",
     "text": [
      "Jason Brown\n"
     ]
    },
    {
     "data": {
      "text/plain": [
       "'anonymising $name on Leo Martins becomes Jacob Stein'"
      ]
     },
     "metadata": {},
     "output_type": "display_data"
    },
    {
     "name": "stdout",
     "output_type": "stream",
     "text": [
      "Jacob Stein\n"
     ]
    },
    {
     "data": {
      "text/plain": [
       "'anonymising $email on lmartins@pontusvision.com becomes brian12@example.net'"
      ]
     },
     "metadata": {},
     "output_type": "display_data"
    },
    {
     "name": "stdout",
     "output_type": "stream",
     "text": [
      "brian12@example.net\n"
     ]
    },
    {
     "data": {
      "text/plain": [
       "'anonymising $name on Lua becomes Taylor Williams'"
      ]
     },
     "metadata": {},
     "output_type": "display_data"
    },
    {
     "name": "stdout",
     "output_type": "stream",
     "text": [
      "Taylor Williams\n"
     ]
    },
    {
     "data": {
      "text/plain": [
       "'anonymising $name on Leo Martins becomes Jacob Stein'"
      ]
     },
     "metadata": {},
     "output_type": "display_data"
    },
    {
     "name": "stdout",
     "output_type": "stream",
     "text": [
      "Jacob Stein\n"
     ]
    },
    {
     "data": {
      "text/plain": [
       "'anonymising $email on lmartins@pontusvision.com becomes brian12@example.net'"
      ]
     },
     "metadata": {},
     "output_type": "display_data"
    },
    {
     "name": "stdout",
     "output_type": "stream",
     "text": [
      "brian12@example.net\n",
      "+----------------+------------------+\n",
      "|type_activity_id|type_activity_name|\n",
      "+----------------+------------------+\n",
      "|               1|   leo@example.net|\n",
      "|               2|  neeraj@email.com|\n",
      "|               3|  neeraj@email.com|\n",
      "|               4|  rachel@email.com|\n",
      "|               5|  rachel@email.com|\n",
      "+----------------+------------------+\n",
      "\n"
     ]
    },
    {
     "name": "stderr",
     "output_type": "stream",
     "text": [
      "anonymising $address on leo@example.net becomes 25102 Tom Loop Apt. 667+ 1) / 1]\n",
      "South Adam, ND 20695\n",
      "anonymising $address on neeraj@email.com becomes 385 Day Vista Suite 343\n",
      "Rogerville, CA 44492\n",
      "anonymising $address on neeraj@email.com becomes 385 Day Vista Suite 343\n",
      "Rogerville, CA 44492\n",
      "anonymising $address on rachel@email.com becomes 53146 Jennings Shoals\n",
      "Mathisport, MH 63759\n",
      "anonymising $address on rachel@email.com becomes 53146 Jennings Shoals\n",
      "Mathisport, MH 63759\n",
      "                                                                                \r"
     ]
    },
    {
     "name": "stdout",
     "output_type": "stream",
     "text": [
      "+----------------+------------------+-------------------------+\n",
      "|type_activity_id|type_activity_name|type_activity_name_masked|\n",
      "+----------------+------------------+-------------------------+\n",
      "|               1|   leo@example.net|     25102 Tom Loop Ap...|\n",
      "|               2|  neeraj@email.com|     385 Day Vista Sui...|\n",
      "|               3|  neeraj@email.com|     385 Day Vista Sui...|\n",
      "|               4|  rachel@email.com|     53146 Jennings Sh...|\n",
      "|               5|  rachel@email.com|     53146 Jennings Sh...|\n",
      "+----------------+------------------+-------------------------+\n",
      "\n"
     ]
    },
    {
     "name": "stderr",
     "output_type": "stream",
     "text": [
      "anonymising $email on leo@example.net becomes brian12@example.net\n",
      "anonymising $email on neeraj@email.com becomes daniel02@example.net\n",
      "[Stage 9:===================>                                       (1 + 2) / 3]\r"
     ]
    },
    {
     "name": "stdout",
     "output_type": "stream",
     "text": [
      "+----------------+------------------+--------------------+\n",
      "|type_activity_id|type_activity_name| type_activity_name2|\n",
      "+----------------+------------------+--------------------+\n",
      "|               1|   leo@example.net| brian12@example.net|\n",
      "|               2|  neeraj@email.com| brian12@example.net|\n",
      "|               3|  neeraj@email.com|daniel02@example.net|\n",
      "|               4|  rachel@email.com| brian12@example.net|\n",
      "|               5|  rachel@email.com| brian12@example.net|\n",
      "+----------------+------------------+--------------------+\n",
      "\n"
     ]
    },
    {
     "name": "stderr",
     "output_type": "stream",
     "text": [
      "anonymising $email on rachel@email.com becomes brian12@example.net\n",
      "anonymising $email on rachel@email.com becomes brian12@example.net\n",
      "anonymising $email on neeraj@email.com becomes brian12@example.net\n",
      "                                                                                \r"
     ]
    }
   ],
   "source": [
    "from udl import udl\n",
    "from pyspark.sql.functions import *\n",
    "from pyspark import Row\n",
    "\n",
    "# udlVar = udl.UDL(spark,'/data')\n",
    "anonymise_udf = udf(udl.UDL.anonymise)\n",
    "spark.udf.register(\"anonymise_udf\", anonymise_udf)\n",
    "\n",
    "\n",
    "print (udl.UDL.anonymise('name', 'Leo'))\n",
    "print (udl.UDL.anonymise('name', 'Leo Martins'))\n",
    "print (udl.UDL.anonymise('email', 'lmartins@pontusvision.com'))\n",
    "\n",
    "print (udl.UDL.anonymise('name', 'Lua'))\n",
    "print (udl.UDL.anonymise('name', 'Leo Martins'))\n",
    "print (udl.UDL.anonymise('email', 'lmartins@pontusvision.com'))\n",
    "\n",
    "\n",
    "mylist = [\n",
    "  {\"type_activity_id\":1,\"type_activity_name\":\"leo@example.net\"},\n",
    "  {\"type_activity_id\":2,\"type_activity_name\":\"neeraj@email.com\"},\n",
    "  {\"type_activity_id\":3,\"type_activity_name\":\"neeraj@email.com\"},\n",
    "  {\"type_activity_id\":4,\"type_activity_name\":\"rachel@email.com\"},\n",
    "  {\"type_activity_id\":5,\"type_activity_name\":\"rachel@email.com\"}\n",
    "]\n",
    "\n",
    "df = spark.createDataFrame(Row(**x) for x in mylist)\n",
    "df.show()\n",
    "\n",
    "#### NOTE: WE MUST COALESCE to 1 to anonymise consistently; otherwise, we end up with multiple dictionary entries spread around.\n",
    "###\n",
    "df2 = df.coalesce(1).withColumn(\"type_activity_name_masked\", anonymise_udf(lit('address'),'type_activity_name'))\n",
    "df2.show()\n",
    "\n",
    "\n",
    "### IF we do not coalesce, then we get repeated entries:\n",
    "df3 = df.withColumn(\"type_activity_name2\", anonymise_udf(lit('email'),('type_activity_name')))\n",
    "df3.show()\n"
   ]
  },
  {
   "cell_type": "code",
   "execution_count": null,
   "id": "665ed29e-c4e5-4879-bf35-55f28bdbbe02",
   "metadata": {},
   "outputs": [],
   "source": []
  }
 ],
 "metadata": {
  "kernelspec": {
   "display_name": "Python 3 (ipykernel)",
   "language": "python",
   "name": "python3"
  },
  "language_info": {
   "codemirror_mode": {
    "name": "ipython",
    "version": 3
   },
   "file_extension": ".py",
   "mimetype": "text/x-python",
   "name": "python",
   "nbconvert_exporter": "python",
   "pygments_lexer": "ipython3",
   "version": "3.10.12"
  }
 },
 "nbformat": 4,
 "nbformat_minor": 5
}
