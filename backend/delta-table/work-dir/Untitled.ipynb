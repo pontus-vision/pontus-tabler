{
 "cells": [
  {
   "cell_type": "code",
   "execution_count": null,
   "id": "1e76c96c-ca5e-46c5-874c-07e5efb7b16f",
   "metadata": {},
   "outputs": [],
   "source": [
    "spark.sql(\"create  external table if not exists app_history(application_id string, level_1_state string, level_2_state string, level_3_state string, level_4_state string, event_timestamp timestamp, ingestion_timestamp timestamp) using delta PARTITIONED BY (application_id) LOCATION 'file:///data/silver/split/delta-parquet/app-history' ;\")"
   ]
  },
  {
   "cell_type": "code",
   "execution_count": 6,
   "id": "098abe99-4734-496c-bc25-e5d468e9a7c3",
   "metadata": {},
   "outputs": [
    {
     "data": {
      "text/html": [
       "<div>\n",
       "<style scoped>\n",
       "    .dataframe tbody tr th:only-of-type {\n",
       "        vertical-align: middle;\n",
       "    }\n",
       "\n",
       "    .dataframe tbody tr th {\n",
       "        vertical-align: top;\n",
       "    }\n",
       "\n",
       "    .dataframe thead th {\n",
       "        text-align: right;\n",
       "    }\n",
       "</style>\n",
       "<table border=\"1\" class=\"dataframe\">\n",
       "  <thead>\n",
       "    <tr style=\"text-align: right;\">\n",
       "      <th></th>\n",
       "      <th>1</th>\n",
       "    </tr>\n",
       "  </thead>\n",
       "  <tbody>\n",
       "    <tr>\n",
       "      <th>0</th>\n",
       "      <td>1</td>\n",
       "    </tr>\n",
       "  </tbody>\n",
       "</table>\n",
       "</div>"
      ],
      "text/plain": [
       "   1\n",
       "0  1"
      ]
     },
     "execution_count": 6,
     "metadata": {},
     "output_type": "execute_result"
    }
   ],
   "source": [
    "spark.sql(\"\"\"\n",
    "SELECT 1;\n",
    "\"\"\").toPandas()"
   ]
  },
  {
   "cell_type": "code",
   "execution_count": 11,
   "id": "569cb667-8660-420e-81fd-13a0e95aec6a",
   "metadata": {},
   "outputs": [
    {
     "name": "stdout",
     "output_type": "stream",
     "text": [
      "The sparksql_magic extension is already loaded. To reload it, use:\n",
      "  %reload_ext sparksql_magic\n"
     ]
    }
   ],
   "source": [
    "%load_ext sparksql_magic"
   ]
  },
  {
   "cell_type": "code",
   "execution_count": 14,
   "id": "0110cbf5-a987-4494-99c6-0d294423ea56",
   "metadata": {},
   "outputs": [
    {
     "name": "stderr",
     "output_type": "stream",
     "text": [
      "24/06/26 18:05:42 WARN ObjectStore: Failed to get database delta, returning NoSuchObjectException\n",
      "                                                                                \r"
     ]
    },
    {
     "data": {
      "text/html": [
       "<table><tr style=\"border-bottom: 1px solid\"><td style=\"font-weight: bold\">id</td><td style=\"font-weight: bold\">foo</td><td style=\"font-weight: bold\">bar</td><td style=\"font-weight: bold\">car</td></tr><tr><td>0</td><td>2023-09-26T09:27:53.700Z</td><td>9000</td><td>0</td></tr><tr><td>1</td><td>2023-09-26T09:27:53.700Z</td><td>9000</td><td>1</td></tr><tr><td>2</td><td>2023-09-26T09:27:53.700Z</td><td>9000</td><td>2</td></tr><tr><td>3</td><td>2023-09-26T09:27:53.700Z</td><td>9000</td><td>3</td></tr><tr><td>4</td><td>2023-09-26T09:27:53.700Z</td><td>9000</td><td>4</td></tr></table>"
      ],
      "text/plain": [
       "<IPython.core.display.HTML object>"
      ]
     },
     "execution_count": 14,
     "metadata": {},
     "output_type": "execute_result"
    }
   ],
   "source": [
    "%%sparksql\n",
    "SELECT * from delta.`/data/delta-table2`"
   ]
  },
  {
   "cell_type": "code",
   "execution_count": 1,
   "id": "05730703-e427-4fe8-882a-ce770654d588",
   "metadata": {},
   "outputs": [],
   "source": [
    "from udl.udl import UDL\n",
    "from typing import List\n",
    "class UDL_DAP_MOCK(UDL):\n",
    "    def __init__(self, spark, prefix: str, data_type: str = 'dap'):\n",
    "        super().__init__(spark, prefix, data_type)\n",
    "\n",
    "    def get_blob_url(self,\n",
    "                     container_name: str,\n",
    "                     storage_account_name: str,\n",
    "                     blob_name: str):\n",
    "        return f'{blob_name}'\n",
    "\n",
    "    def get_blobs(self,\n",
    "                  sas_token: str,\n",
    "                  storage_account_name: str,\n",
    "                  raw_prefix: str,\n",
    "                  container_name: str) -> List[str]:  # pragma: no cover\n",
    "        return [f\"{raw_prefix}/dapEvent.json\"]\n",
    "\n",
    "    def move_blobs(self, container_name, blob_name, new_name):\n",
    "        pass"
   ]
  },
  {
   "cell_type": "code",
   "execution_count": 2,
   "id": "2d891927-89d5-4c5c-b956-42afbe03881f",
   "metadata": {},
   "outputs": [
    {
     "data": {
      "text/plain": [
       "'Delta Spark version [3 2 0]; use_liquid_clustering = True'"
      ]
     },
     "metadata": {},
     "output_type": "display_data"
    },
    {
     "name": "stderr",
     "output_type": "stream",
     "text": [
      "24/06/25 17:20:08 WARN HiveConf: HiveConf of name hive.stats.jdbc.timeout does not exist\n",
      "24/06/25 17:20:08 WARN HiveConf: HiveConf of name hive.stats.retries.wait does not exist\n",
      "24/06/25 17:20:10 WARN ObjectStore: Version information not found in metastore. hive.metastore.schema.verification is not enabled so recording the schema version 2.3.0\n",
      "24/06/25 17:20:10 WARN ObjectStore: setMetaStoreSchemaVersion called but recording version is disabled: version = 2.3.0, comment = Set by MetaStore UNKNOWN@172.17.0.2\n"
     ]
    },
    {
     "data": {
      "text/plain": [
       "True"
      ]
     },
     "metadata": {},
     "output_type": "display_data"
    }
   ],
   "source": [
    "a = UDL_DAP_MOCK(spark,'/data')\n",
    "# from importlib import metadata\n",
    "# from IPython.display import display\n",
    "# import numpy as np\n",
    "\n",
    "# adelta_version = metadata.version(\"delta_spark\")\n",
    "# display(f'Delta Spark version {adelta_version};')\n",
    "\n",
    "# delta_version = np.array(list(map(int, adelta_version.split('.'))))\n",
    "# three_one_zero = np.array([3, 1, 0])\n",
    "# use_liquid_clustering = (delta_version >= three_one_zero).all()\n",
    "# print(f'Delta Spark version {delta_version}; use_liquid_clustering = {use_liquid_clustering}')\n",
    "\n",
    "display(a.use_liquid_clustering)"
   ]
  },
  {
   "cell_type": "code",
   "execution_count": null,
   "id": "4cc9474c-ec58-41d6-b3b9-6dc59a4c510c",
   "metadata": {},
   "outputs": [],
   "source": []
  },
  {
   "cell_type": "code",
   "execution_count": null,
   "id": "dfbd5d89-fba7-43b1-90f3-7a48974446bc",
   "metadata": {},
   "outputs": [],
   "source": []
  }
 ],
 "metadata": {
  "kernelspec": {
   "display_name": "Python 3 (ipykernel)",
   "language": "python",
   "name": "python3"
  },
  "language_info": {
   "codemirror_mode": {
    "name": "ipython",
    "version": 3
   },
   "file_extension": ".py",
   "mimetype": "text/x-python",
   "name": "python",
   "nbconvert_exporter": "python",
   "pygments_lexer": "ipython3",
   "version": "3.10.12"
  }
 },
 "nbformat": 4,
 "nbformat_minor": 5
}
